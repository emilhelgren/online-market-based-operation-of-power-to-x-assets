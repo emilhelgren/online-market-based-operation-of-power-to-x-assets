{
 "cells": [
  {
   "cell_type": "code",
   "execution_count": 1,
   "metadata": {},
   "outputs": [],
   "source": [
    "import numpy as np\n",
    "import pandas as pd\n",
    "import matplotlib.pyplot as plt\n"
   ]
  },
  {
   "cell_type": "code",
   "execution_count": 2,
   "metadata": {},
   "outputs": [],
   "source": [
    "df_features = pd.DataFrame()"
   ]
  },
  {
   "cell_type": "code",
   "execution_count": 3,
   "metadata": {},
   "outputs": [
    {
     "name": "stdout",
     "output_type": "stream",
     "text": [
      "Index(['MTU (CET/CEST)', 'Generation - Solar  [MW] Day Ahead/ BZN|DK2',\n",
      "       'Generation - Solar  [MW] Intraday / BZN|DK2',\n",
      "       'Generation - Solar  [MW] Current / BZN|DK2',\n",
      "       'Generation - Wind Offshore  [MW] Day Ahead/ BZN|DK2',\n",
      "       'Generation - Wind Offshore  [MW] Intraday / BZN|DK2',\n",
      "       'Generation - Wind Offshore  [MW] Current / BZN|DK2',\n",
      "       'Generation - Wind Onshore  [MW] Day Ahead/ BZN|DK2',\n",
      "       'Generation - Wind Onshore  [MW] Intraday / BZN|DK2',\n",
      "       'Generation - Wind Onshore  [MW] Current / BZN|DK2'],\n",
      "      dtype='object')\n"
     ]
    },
    {
     "data": {
      "text/plain": [
       "Index(['MTU (CET/CEST)', 'Generation - Solar  [MW] Day Ahead/ BZN|DK1',\n",
       "       'Generation - Solar  [MW] Intraday / BZN|DK1',\n",
       "       'Generation - Solar  [MW] Current / BZN|DK1',\n",
       "       'Generation - Wind Offshore  [MW] Day Ahead/ BZN|DK1',\n",
       "       'Generation - Wind Offshore  [MW] Intraday / BZN|DK1',\n",
       "       'Generation - Wind Offshore  [MW] Current / BZN|DK1',\n",
       "       'Generation - Wind Onshore  [MW] Day Ahead/ BZN|DK1',\n",
       "       'Generation - Wind Onshore  [MW] Intraday / BZN|DK1',\n",
       "       'Generation - Wind Onshore  [MW] Current / BZN|DK1'],\n",
       "      dtype='object')"
      ]
     },
     "execution_count": 3,
     "metadata": {},
     "output_type": "execute_result"
    }
   ],
   "source": [
    "df_DK2 = pd.read_csv('./data/ENTSOE_Generation Forecasts for Wind and Solar_DK2_201901010000-202001010000.csv')\n",
    "print(df_DK2.columns)\n",
    "df_DK1 = pd.read_csv('./data/ENTSOE_Generation Forecasts for Wind and Solar_DK1_201901010000-202001010000.csv')\n",
    "df_DK1.columns"
   ]
  },
  {
   "cell_type": "code",
   "execution_count": 48,
   "metadata": {},
   "outputs": [],
   "source": [
    "df_features['offshore_DK2'] = df_DK2['Generation - Wind Offshore  [MW] Day Ahead/ BZN|DK2']\n",
    "df_features['offshore_DK1'] = df_DK1['Generation - Wind Offshore  [MW] Day Ahead/ BZN|DK1']\n",
    "df_features['onshore_DK2'] = df_DK2['Generation - Wind Onshore  [MW] Day Ahead/ BZN|DK2']\n",
    "df_features['onshore_DK1'] = df_DK1['Generation - Wind Onshore  [MW] Day Ahead/ BZN|DK1']\n",
    "df_features['solar_DK2'] = df_DK2['Generation - Solar  [MW] Day Ahead/ BZN|DK2']"
   ]
  },
  {
   "cell_type": "code",
   "execution_count": 49,
   "metadata": {},
   "outputs": [
    {
     "data": {
      "text/html": [
       "<div>\n",
       "<style scoped>\n",
       "    .dataframe tbody tr th:only-of-type {\n",
       "        vertical-align: middle;\n",
       "    }\n",
       "\n",
       "    .dataframe tbody tr th {\n",
       "        vertical-align: top;\n",
       "    }\n",
       "\n",
       "    .dataframe thead th {\n",
       "        text-align: right;\n",
       "    }\n",
       "</style>\n",
       "<table border=\"1\" class=\"dataframe\">\n",
       "  <thead>\n",
       "    <tr style=\"text-align: right;\">\n",
       "      <th></th>\n",
       "      <th>offshore_DK2</th>\n",
       "      <th>offshore_DK1</th>\n",
       "      <th>onshore_DK2</th>\n",
       "      <th>onshore_DK1</th>\n",
       "      <th>solar_DK2</th>\n",
       "    </tr>\n",
       "  </thead>\n",
       "  <tbody>\n",
       "    <tr>\n",
       "      <th>0</th>\n",
       "      <td>253.0</td>\n",
       "      <td>586.0</td>\n",
       "      <td>551.0</td>\n",
       "      <td>2302.0</td>\n",
       "      <td>0.0</td>\n",
       "    </tr>\n",
       "    <tr>\n",
       "      <th>1</th>\n",
       "      <td>328.0</td>\n",
       "      <td>627.0</td>\n",
       "      <td>645.0</td>\n",
       "      <td>2342.0</td>\n",
       "      <td>0.0</td>\n",
       "    </tr>\n",
       "    <tr>\n",
       "      <th>2</th>\n",
       "      <td>257.0</td>\n",
       "      <td>254.0</td>\n",
       "      <td>590.0</td>\n",
       "      <td>2227.0</td>\n",
       "      <td>0.0</td>\n",
       "    </tr>\n",
       "    <tr>\n",
       "      <th>3</th>\n",
       "      <td>210.0</td>\n",
       "      <td>233.0</td>\n",
       "      <td>566.0</td>\n",
       "      <td>2163.0</td>\n",
       "      <td>0.0</td>\n",
       "    </tr>\n",
       "    <tr>\n",
       "      <th>4</th>\n",
       "      <td>204.0</td>\n",
       "      <td>233.0</td>\n",
       "      <td>559.0</td>\n",
       "      <td>2108.0</td>\n",
       "      <td>0.0</td>\n",
       "    </tr>\n",
       "  </tbody>\n",
       "</table>\n",
       "</div>"
      ],
      "text/plain": [
       "   offshore_DK2  offshore_DK1  onshore_DK2  onshore_DK1  solar_DK2\n",
       "0         253.0         586.0        551.0       2302.0        0.0\n",
       "1         328.0         627.0        645.0       2342.0        0.0\n",
       "2         257.0         254.0        590.0       2227.0        0.0\n",
       "3         210.0         233.0        566.0       2163.0        0.0\n",
       "4         204.0         233.0        559.0       2108.0        0.0"
      ]
     },
     "execution_count": 49,
     "metadata": {},
     "output_type": "execute_result"
    }
   ],
   "source": [
    "df_features.head()"
   ]
  },
  {
   "cell_type": "code",
   "execution_count": 50,
   "metadata": {},
   "outputs": [],
   "source": [
    "for i in range(df_features.shape[1]-1):\n",
    "    df_features.iloc[:, i] = df_features.iloc[:, i] / df_features.iloc[:, i].max()"
   ]
  },
  {
   "cell_type": "code",
   "execution_count": 51,
   "metadata": {},
   "outputs": [
    {
     "data": {
      "text/html": [
       "<div>\n",
       "<style scoped>\n",
       "    .dataframe tbody tr th:only-of-type {\n",
       "        vertical-align: middle;\n",
       "    }\n",
       "\n",
       "    .dataframe tbody tr th {\n",
       "        vertical-align: top;\n",
       "    }\n",
       "\n",
       "    .dataframe thead th {\n",
       "        text-align: right;\n",
       "    }\n",
       "</style>\n",
       "<table border=\"1\" class=\"dataframe\">\n",
       "  <thead>\n",
       "    <tr style=\"text-align: right;\">\n",
       "      <th></th>\n",
       "      <th>offshore_DK2</th>\n",
       "      <th>offshore_DK1</th>\n",
       "      <th>onshore_DK2</th>\n",
       "      <th>onshore_DK1</th>\n",
       "      <th>solar_DK2</th>\n",
       "    </tr>\n",
       "  </thead>\n",
       "  <tbody>\n",
       "    <tr>\n",
       "      <th>offshore_DK2</th>\n",
       "      <td>1.000000</td>\n",
       "      <td>0.584081</td>\n",
       "      <td>0.874525</td>\n",
       "      <td>0.696080</td>\n",
       "      <td>-0.122784</td>\n",
       "    </tr>\n",
       "    <tr>\n",
       "      <th>offshore_DK1</th>\n",
       "      <td>0.584081</td>\n",
       "      <td>1.000000</td>\n",
       "      <td>0.646649</td>\n",
       "      <td>0.722248</td>\n",
       "      <td>-0.122990</td>\n",
       "    </tr>\n",
       "    <tr>\n",
       "      <th>onshore_DK2</th>\n",
       "      <td>0.874525</td>\n",
       "      <td>0.646649</td>\n",
       "      <td>1.000000</td>\n",
       "      <td>0.844469</td>\n",
       "      <td>-0.089066</td>\n",
       "    </tr>\n",
       "    <tr>\n",
       "      <th>onshore_DK1</th>\n",
       "      <td>0.696080</td>\n",
       "      <td>0.722248</td>\n",
       "      <td>0.844469</td>\n",
       "      <td>1.000000</td>\n",
       "      <td>-0.005245</td>\n",
       "    </tr>\n",
       "    <tr>\n",
       "      <th>solar_DK2</th>\n",
       "      <td>-0.122784</td>\n",
       "      <td>-0.122990</td>\n",
       "      <td>-0.089066</td>\n",
       "      <td>-0.005245</td>\n",
       "      <td>1.000000</td>\n",
       "    </tr>\n",
       "  </tbody>\n",
       "</table>\n",
       "</div>"
      ],
      "text/plain": [
       "              offshore_DK2  offshore_DK1  onshore_DK2  onshore_DK1  solar_DK2\n",
       "offshore_DK2      1.000000      0.584081     0.874525     0.696080  -0.122784\n",
       "offshore_DK1      0.584081      1.000000     0.646649     0.722248  -0.122990\n",
       "onshore_DK2       0.874525      0.646649     1.000000     0.844469  -0.089066\n",
       "onshore_DK1       0.696080      0.722248     0.844469     1.000000  -0.005245\n",
       "solar_DK2        -0.122784     -0.122990    -0.089066    -0.005245   1.000000"
      ]
     },
     "execution_count": 51,
     "metadata": {},
     "output_type": "execute_result"
    }
   ],
   "source": [
    "df_features.corr()"
   ]
  },
  {
   "cell_type": "code",
   "execution_count": 68,
   "metadata": {},
   "outputs": [],
   "source": [
    "SAVE_AS_CSV = False\n",
    "if (SAVE_AS_CSV):\n",
    "    df_features.to_csv('./data/features.csv')"
   ]
  },
  {
   "cell_type": "code",
   "execution_count": 66,
   "metadata": {},
   "outputs": [
    {
     "data": {
      "text/html": [
       "<div>\n",
       "<style scoped>\n",
       "    .dataframe tbody tr th:only-of-type {\n",
       "        vertical-align: middle;\n",
       "    }\n",
       "\n",
       "    .dataframe tbody tr th {\n",
       "        vertical-align: top;\n",
       "    }\n",
       "\n",
       "    .dataframe thead th {\n",
       "        text-align: right;\n",
       "    }\n",
       "</style>\n",
       "<table border=\"1\" class=\"dataframe\">\n",
       "  <thead>\n",
       "    <tr style=\"text-align: right;\">\n",
       "      <th></th>\n",
       "      <th>offshore_DK2</th>\n",
       "      <th>offshore_DK1</th>\n",
       "      <th>onshore_DK2</th>\n",
       "      <th>onshore_DK1</th>\n",
       "      <th>solar_DK2</th>\n",
       "    </tr>\n",
       "  </thead>\n",
       "  <tbody>\n",
       "    <tr>\n",
       "      <th>0</th>\n",
       "      <td>0.683784</td>\n",
       "      <td>0.506045</td>\n",
       "      <td>0.730769</td>\n",
       "      <td>0.691291</td>\n",
       "      <td>0.0</td>\n",
       "    </tr>\n",
       "    <tr>\n",
       "      <th>1</th>\n",
       "      <td>0.886486</td>\n",
       "      <td>0.541451</td>\n",
       "      <td>0.855438</td>\n",
       "      <td>0.703303</td>\n",
       "      <td>0.0</td>\n",
       "    </tr>\n",
       "    <tr>\n",
       "      <th>2</th>\n",
       "      <td>0.694595</td>\n",
       "      <td>0.219344</td>\n",
       "      <td>0.782493</td>\n",
       "      <td>0.668769</td>\n",
       "      <td>0.0</td>\n",
       "    </tr>\n",
       "    <tr>\n",
       "      <th>3</th>\n",
       "      <td>0.567568</td>\n",
       "      <td>0.201209</td>\n",
       "      <td>0.750663</td>\n",
       "      <td>0.649550</td>\n",
       "      <td>0.0</td>\n",
       "    </tr>\n",
       "    <tr>\n",
       "      <th>4</th>\n",
       "      <td>0.551351</td>\n",
       "      <td>0.201209</td>\n",
       "      <td>0.741379</td>\n",
       "      <td>0.633033</td>\n",
       "      <td>0.0</td>\n",
       "    </tr>\n",
       "  </tbody>\n",
       "</table>\n",
       "</div>"
      ],
      "text/plain": [
       "   offshore_DK2  offshore_DK1  onshore_DK2  onshore_DK1  solar_DK2\n",
       "0      0.683784      0.506045     0.730769     0.691291        0.0\n",
       "1      0.886486      0.541451     0.855438     0.703303        0.0\n",
       "2      0.694595      0.219344     0.782493     0.668769        0.0\n",
       "3      0.567568      0.201209     0.750663     0.649550        0.0\n",
       "4      0.551351      0.201209     0.741379     0.633033        0.0"
      ]
     },
     "execution_count": 66,
     "metadata": {},
     "output_type": "execute_result"
    }
   ],
   "source": [
    "df_features.head()"
   ]
  },
  {
   "cell_type": "code",
   "execution_count": 75,
   "metadata": {},
   "outputs": [
    {
     "data": {
      "text/plain": [
       "Int64Index([8760], dtype='int64')"
      ]
     },
     "execution_count": 75,
     "metadata": {},
     "output_type": "execute_result"
    }
   ],
   "source": [
    "df_features.loc[pd.isna(df_features).any(1), :].index"
   ]
  },
  {
   "cell_type": "code",
   "execution_count": 72,
   "metadata": {},
   "outputs": [
    {
     "name": "stdout",
     "output_type": "stream",
     "text": [
      "offshore_DK2    0.497297\n",
      "offshore_DK1    0.711572\n",
      "onshore_DK2     0.336870\n",
      "onshore_DK1     0.625225\n",
      "solar_DK2       0.000000\n",
      "realized        0.405405\n",
      "Name: 2138, dtype: float64\n",
      "offshore_DK2    0.497297\n",
      "offshore_DK1    0.711572\n",
      "onshore_DK2     0.336870\n",
      "onshore_DK1     0.625225\n",
      "solar_DK2       0.000000\n",
      "realized        0.405405\n",
      "Name: 2138, dtype: float64\n"
     ]
    }
   ],
   "source": [
    "print(df_features.iloc[2138, :])\n",
    "df_features.fillna(method='backfill', inplace=True)\n",
    "print(df_features.iloc[2138, :])"
   ]
  },
  {
   "cell_type": "code",
   "execution_count": 15,
   "metadata": {},
   "outputs": [
    {
     "data": {
      "text/plain": [
       "Index(['Unnamed: 0', 'offshore_DK2', 'offshore_DK1', 'onshore_DK2',\n",
       "       'onshore_DK1', 'solar_DK2'],\n",
       "      dtype='object')"
      ]
     },
     "execution_count": 15,
     "metadata": {},
     "output_type": "execute_result"
    }
   ],
   "source": [
    "df_features = pd.read_csv('./data/features.csv')\n",
    "df_features.columns"
   ]
  },
  {
   "cell_type": "code",
   "execution_count": 28,
   "metadata": {},
   "outputs": [
    {
     "data": {
      "text/plain": [
       "Unnamed: 0                                   4379.500000\n",
       "Price for consumption [EUR/MWh] - MBA|DK2      40.563091\n",
       "dtype: float64"
      ]
     },
     "execution_count": 28,
     "metadata": {},
     "output_type": "execute_result"
    }
   ],
   "source": [
    "df_price = pd.read_csv('./data/forward.csv')\n",
    "df_price.mean()"
   ]
  },
  {
   "cell_type": "code",
   "execution_count": 27,
   "metadata": {},
   "outputs": [
    {
     "name": "stderr",
     "output_type": "stream",
     "text": [
      "C:\\Users\\emilh\\AppData\\Local\\Temp\\ipykernel_20800\\3638858104.py:2: FutureWarning: Dropping of nuisance columns in DataFrame reductions (with 'numeric_only=None') is deprecated; in a future version this will raise TypeError.  Select only valid columns before calling the reduction.\n",
      "  df_test.mean()\n"
     ]
    },
    {
     "data": {
      "text/plain": [
       "Unnamed: 0      4379.000000\n",
       "SpotPriceDKK     211.425834\n",
       "SpotPriceEUR      28.370525\n",
       "dtype: float64"
      ]
     },
     "execution_count": 27,
     "metadata": {},
     "output_type": "execute_result"
    }
   ],
   "source": [
    "df_test = pd.read_csv('./data/2020/prices_formatted.csv')\n",
    "df_test.mean()"
   ]
  },
  {
   "cell_type": "code",
   "execution_count": 19,
   "metadata": {},
   "outputs": [],
   "source": [
    "\n",
    "df_price = df_price['Price for consumption [EUR/MWh] - MBA|DK2']\n",
    "df_price.to_csv('./data/forward.csv')"
   ]
  },
  {
   "cell_type": "code",
   "execution_count": 70,
   "metadata": {},
   "outputs": [
    {
     "data": {
      "text/html": [
       "<div>\n",
       "<style scoped>\n",
       "    .dataframe tbody tr th:only-of-type {\n",
       "        vertical-align: middle;\n",
       "    }\n",
       "\n",
       "    .dataframe tbody tr th {\n",
       "        vertical-align: top;\n",
       "    }\n",
       "\n",
       "    .dataframe thead th {\n",
       "        text-align: right;\n",
       "    }\n",
       "</style>\n",
       "<table border=\"1\" class=\"dataframe\">\n",
       "  <thead>\n",
       "    <tr style=\"text-align: right;\">\n",
       "      <th></th>\n",
       "      <th>offshore_DK2</th>\n",
       "      <th>offshore_DK1</th>\n",
       "      <th>onshore_DK2</th>\n",
       "      <th>onshore_DK1</th>\n",
       "      <th>solar_DK2</th>\n",
       "      <th>realized</th>\n",
       "    </tr>\n",
       "  </thead>\n",
       "  <tbody>\n",
       "    <tr>\n",
       "      <th>0</th>\n",
       "      <td>0.683784</td>\n",
       "      <td>0.506045</td>\n",
       "      <td>0.730769</td>\n",
       "      <td>0.691291</td>\n",
       "      <td>0.0</td>\n",
       "      <td>0.716216</td>\n",
       "    </tr>\n",
       "    <tr>\n",
       "      <th>1</th>\n",
       "      <td>0.886486</td>\n",
       "      <td>0.541451</td>\n",
       "      <td>0.855438</td>\n",
       "      <td>0.703303</td>\n",
       "      <td>0.0</td>\n",
       "      <td>0.918919</td>\n",
       "    </tr>\n",
       "    <tr>\n",
       "      <th>2</th>\n",
       "      <td>0.694595</td>\n",
       "      <td>0.219344</td>\n",
       "      <td>0.782493</td>\n",
       "      <td>0.668769</td>\n",
       "      <td>0.0</td>\n",
       "      <td>0.735135</td>\n",
       "    </tr>\n",
       "    <tr>\n",
       "      <th>3</th>\n",
       "      <td>0.567568</td>\n",
       "      <td>0.201209</td>\n",
       "      <td>0.750663</td>\n",
       "      <td>0.649550</td>\n",
       "      <td>0.0</td>\n",
       "      <td>0.578378</td>\n",
       "    </tr>\n",
       "    <tr>\n",
       "      <th>4</th>\n",
       "      <td>0.551351</td>\n",
       "      <td>0.201209</td>\n",
       "      <td>0.741379</td>\n",
       "      <td>0.633033</td>\n",
       "      <td>0.0</td>\n",
       "      <td>0.562162</td>\n",
       "    </tr>\n",
       "  </tbody>\n",
       "</table>\n",
       "</div>"
      ],
      "text/plain": [
       "   offshore_DK2  offshore_DK1  onshore_DK2  onshore_DK1  solar_DK2  realized\n",
       "0      0.683784      0.506045     0.730769     0.691291        0.0  0.716216\n",
       "1      0.886486      0.541451     0.855438     0.703303        0.0  0.918919\n",
       "2      0.694595      0.219344     0.782493     0.668769        0.0  0.735135\n",
       "3      0.567568      0.201209     0.750663     0.649550        0.0  0.578378\n",
       "4      0.551351      0.201209     0.741379     0.633033        0.0  0.562162"
      ]
     },
     "execution_count": 70,
     "metadata": {},
     "output_type": "execute_result"
    }
   ],
   "source": [
    "df_features['realized'] = df_real['Wind Offshore  - Actual Aggregated [MW]'] / 370\n",
    "df_features.head()"
   ]
  },
  {
   "cell_type": "code",
   "execution_count": 64,
   "metadata": {},
   "outputs": [
    {
     "data": {
      "text/html": [
       "<div>\n",
       "<style scoped>\n",
       "    .dataframe tbody tr th:only-of-type {\n",
       "        vertical-align: middle;\n",
       "    }\n",
       "\n",
       "    .dataframe tbody tr th {\n",
       "        vertical-align: top;\n",
       "    }\n",
       "\n",
       "    .dataframe thead th {\n",
       "        text-align: right;\n",
       "    }\n",
       "</style>\n",
       "<table border=\"1\" class=\"dataframe\">\n",
       "  <thead>\n",
       "    <tr style=\"text-align: right;\">\n",
       "      <th></th>\n",
       "      <th>offshore_DK2</th>\n",
       "      <th>offshore_DK1</th>\n",
       "      <th>onshore_DK2</th>\n",
       "      <th>onshore_DK1</th>\n",
       "      <th>solar_DK2</th>\n",
       "    </tr>\n",
       "  </thead>\n",
       "  <tbody>\n",
       "    <tr>\n",
       "      <th>offshore_DK2</th>\n",
       "      <td>1.000000</td>\n",
       "      <td>0.584079</td>\n",
       "      <td>0.874526</td>\n",
       "      <td>0.696031</td>\n",
       "      <td>-0.122802</td>\n",
       "    </tr>\n",
       "    <tr>\n",
       "      <th>offshore_DK1</th>\n",
       "      <td>0.584079</td>\n",
       "      <td>1.000000</td>\n",
       "      <td>0.646636</td>\n",
       "      <td>0.722281</td>\n",
       "      <td>-0.123050</td>\n",
       "    </tr>\n",
       "    <tr>\n",
       "      <th>onshore_DK2</th>\n",
       "      <td>0.874526</td>\n",
       "      <td>0.646636</td>\n",
       "      <td>1.000000</td>\n",
       "      <td>0.844386</td>\n",
       "      <td>-0.089079</td>\n",
       "    </tr>\n",
       "    <tr>\n",
       "      <th>onshore_DK1</th>\n",
       "      <td>0.696031</td>\n",
       "      <td>0.722281</td>\n",
       "      <td>0.844386</td>\n",
       "      <td>1.000000</td>\n",
       "      <td>-0.005356</td>\n",
       "    </tr>\n",
       "    <tr>\n",
       "      <th>solar_DK2</th>\n",
       "      <td>-0.122802</td>\n",
       "      <td>-0.123050</td>\n",
       "      <td>-0.089079</td>\n",
       "      <td>-0.005356</td>\n",
       "      <td>1.000000</td>\n",
       "    </tr>\n",
       "  </tbody>\n",
       "</table>\n",
       "</div>"
      ],
      "text/plain": [
       "              offshore_DK2  offshore_DK1  onshore_DK2  onshore_DK1  solar_DK2\n",
       "offshore_DK2      1.000000      0.584079     0.874526     0.696031  -0.122802\n",
       "offshore_DK1      0.584079      1.000000     0.646636     0.722281  -0.123050\n",
       "onshore_DK2       0.874526      0.646636     1.000000     0.844386  -0.089079\n",
       "onshore_DK1       0.696031      0.722281     0.844386     1.000000  -0.005356\n",
       "solar_DK2        -0.122802     -0.123050    -0.089079    -0.005356   1.000000"
      ]
     },
     "execution_count": 64,
     "metadata": {},
     "output_type": "execute_result"
    }
   ],
   "source": [
    "df_features.corr()"
   ]
  },
  {
   "cell_type": "code",
   "execution_count": 78,
   "metadata": {},
   "outputs": [],
   "source": [
    "df_features.iloc[8760,-1] = 0.216216"
   ]
  },
  {
   "cell_type": "code",
   "execution_count": 14,
   "metadata": {},
   "outputs": [
    {
     "data": {
      "text/plain": [
       "Unnamed: 0.1                                          False\n",
       "Unnamed: 0                                            False\n",
       "Generation / - Imbalance price [EUR/MWh] - MBA|DK2    False\n",
       "dtype: bool"
      ]
     },
     "execution_count": 14,
     "metadata": {},
     "output_type": "execute_result"
    }
   ],
   "source": [
    "df_price = pd.read_csv('./data/balance_dw.csv')\n",
    "# df_price.fillna(method='backfill', inplace=True)\n",
    "df_price.isna().any()"
   ]
  },
  {
   "cell_type": "code",
   "execution_count": 11,
   "metadata": {},
   "outputs": [],
   "source": [
    "df_price.to_csv('./data/forward.csv')"
   ]
  }
 ],
 "metadata": {
  "kernelspec": {
   "display_name": "Python 3.10.5 64-bit",
   "language": "python",
   "name": "python3"
  },
  "language_info": {
   "codemirror_mode": {
    "name": "ipython",
    "version": 3
   },
   "file_extension": ".py",
   "mimetype": "text/x-python",
   "name": "python",
   "nbconvert_exporter": "python",
   "pygments_lexer": "ipython3",
   "version": "3.10.5"
  },
  "orig_nbformat": 4,
  "vscode": {
   "interpreter": {
    "hash": "369f2c481f4da34e4445cda3fffd2e751bd1c4d706f27375911949ba6bb62e1c"
   }
  }
 },
 "nbformat": 4,
 "nbformat_minor": 2
}
