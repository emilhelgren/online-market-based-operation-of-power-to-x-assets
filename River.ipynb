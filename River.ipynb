{
 "cells": [
  {
   "cell_type": "code",
   "execution_count": 2,
   "id": "2b71bc5e",
   "metadata": {},
   "outputs": [],
   "source": [
    "import river\n",
    "from river.naive_bayes import MultinomialNB\n",
    "from river.feature_extraction import BagOfWords,TFIDF\n",
    "from river.compose import Pipeline \n",
    "\n",
    "import pandas as pd\n",
    "import numpy as np"
   ]
  },
  {
   "cell_type": "code",
   "execution_count": 5,
   "id": "153d486b",
   "metadata": {},
   "outputs": [],
   "source": [
    "df = pd.read_csv(\"./archive/stock_data.csv\")\n",
    "# Convert to Format\n",
    "df.to_dict()\n",
    " \n",
    "# Convert to Tuple\n",
    "data = df.to_records(index=False)\n"
   ]
  },
  {
   "cell_type": "code",
   "execution_count": 6,
   "id": "245e548d",
   "metadata": {},
   "outputs": [
    {
     "data": {
      "text/plain": [
       "OrderedDict([('vectorizer',\n",
       "              BagOfWords (\n",
       "                on=None\n",
       "                strip_accents=True\n",
       "                lowercase=True\n",
       "                preprocessor=None\n",
       "                tokenizer=<built-in method findall of re.Pattern object at 0x0000025ED8772500>\n",
       "                ngram_range=(1, 1)\n",
       "              )),\n",
       "             ('nb',\n",
       "              MultinomialNB (\n",
       "                alpha=1.\n",
       "              ))])"
      ]
     },
     "execution_count": 6,
     "metadata": {},
     "output_type": "execute_result"
    }
   ],
   "source": [
    "# Build Pipeline\n",
    "pipe_nb = Pipeline(('vectorizer',BagOfWords(lowercase=True)),('nb',MultinomialNB()))\n",
    " \n",
    "# Specify Steps\n",
    "pipe_nb.steps"
   ]
  },
  {
   "cell_type": "code",
   "execution_count": 7,
   "id": "fb77b88f",
   "metadata": {},
   "outputs": [],
   "source": [
    "# Train\n",
    "for text,label in data:\n",
    "    pipe_nb = pipe_nb.learn_one(text,label)"
   ]
  },
  {
   "cell_type": "code",
   "execution_count": 8,
   "id": "3670cccc",
   "metadata": {},
   "outputs": [
    {
     "name": "stdout",
     "output_type": "stream",
     "text": [
      "Predicted test sentence as 1  and probability of classes for test as {1: 0.9852057924693627, -1: 0.01479420753064915}\n"
     ]
    }
   ],
   "source": [
    "# Make a Prediction\n",
    "test = 'Mr AAP is going to have to stop hanging out by the pool if he is to make 435 by close. All she needs is one fat finger buyer'\n",
    "pred = pipe_nb.predict_one(test)\n",
    "# Prediction Prob\n",
    "proba_ = pipe_nb.predict_proba_one(test)\n",
    "print('Predicted test sentence as',pred,' and probability of classes for test as',proba_)"
   ]
  },
  {
   "cell_type": "code",
   "execution_count": 9,
   "id": "762ddec0",
   "metadata": {},
   "outputs": [
    {
     "name": "stdout",
     "output_type": "stream",
     "text": [
      "Accuracy: 87.41%\n"
     ]
    }
   ],
   "source": [
    "# Update the Model on the test data & Check Accuracy\n",
    "metric = river.metrics.Accuracy()\n",
    "for text,label in data:\n",
    "    y_pred_before = pipe_nb.predict_one(text)\n",
    "    metric = metric.update(label,y_pred_before)\n",
    "    # Has already learnt the pattern\n",
    "    pipe_nb = pipe_nb.learn_one(text,label)\n",
    "print(metric)"
   ]
  },
  {
   "cell_type": "code",
   "execution_count": null,
   "id": "40729bf4",
   "metadata": {},
   "outputs": [],
   "source": []
  }
 ],
 "metadata": {
  "kernelspec": {
   "display_name": "Python 3.10.5 64-bit",
   "language": "python",
   "name": "python3"
  },
  "language_info": {
   "codemirror_mode": {
    "name": "ipython",
    "version": 3
   },
   "file_extension": ".py",
   "mimetype": "text/x-python",
   "name": "python",
   "nbconvert_exporter": "python",
   "pygments_lexer": "ipython3",
   "version": "3.10.5"
  },
  "vscode": {
   "interpreter": {
    "hash": "369f2c481f4da34e4445cda3fffd2e751bd1c4d706f27375911949ba6bb62e1c"
   }
  }
 },
 "nbformat": 4,
 "nbformat_minor": 5
}
