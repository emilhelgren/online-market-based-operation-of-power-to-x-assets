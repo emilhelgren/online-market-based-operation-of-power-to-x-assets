{
 "cells": [
  {
   "cell_type": "code",
   "execution_count": 1,
   "id": "dd3a04d2",
   "metadata": {},
   "outputs": [],
   "source": [
    "# Imports\n",
    "import numpy as np\n",
    "import pandas as pd\n",
    "import torch\n",
    "from torch import nn\n",
    "from torch.utils.data import DataLoader\n",
    "import torch.nn.functional as F\n",
    "import torch.optim as optim\n",
    "import torch.nn.init as init\n",
    "from torch.nn.parameter import Parameter\n",
    "\n",
    "import matplotlib\n",
    "import matplotlib.pyplot as plt\n"
   ]
  },
  {
   "cell_type": "code",
   "execution_count": 2,
   "id": "e237820e",
   "metadata": {},
   "outputs": [
    {
     "name": "stdout",
     "output_type": "stream",
     "text": [
      "   Realization   Forecast\n",
      "0     0.931534   0.838380\n",
      "1    21.229124  19.106212\n",
      "2    28.544289  25.689860\n",
      "3     6.342930   5.708637\n",
      "4    18.398031  16.558228\n"
     ]
    }
   ],
   "source": [
    "df = pd.read_csv('data.csv')\n",
    "df.drop(columns=['Index', 'delete'], inplace=True)\n",
    "print(df.head())"
   ]
  },
  {
   "cell_type": "code",
   "execution_count": 55,
   "id": "2e47105a",
   "metadata": {},
   "outputs": [],
   "source": [
    "x = df['Forecast'].to_numpy()\n",
    "y = df['Realization'].to_numpy()\n",
    "\n",
    "\n",
    "x = np.random.rand(400) * 10\n",
    "y = x + (np.random.rand(400) - 0.5)* 3"
   ]
  },
  {
   "cell_type": "code",
   "execution_count": 57,
   "id": "7201afc2",
   "metadata": {},
   "outputs": [],
   "source": [
    "class LinearModel(nn.Module):\n",
    "    def __init__(self, in_features, out_features):\n",
    "        super(LinearModel, self).__init__()\n",
    "        self.linear = nn.Linear(in_features, out_features)\n",
    "\n",
    "\n",
    "    def forward(self, x):\n",
    "        return self.linear(x)\n"
   ]
  },
  {
   "cell_type": "code",
   "execution_count": 166,
   "id": "82f6eba3",
   "metadata": {},
   "outputs": [],
   "source": [
    "rho = 0.9\n",
    "rho_adj = 0.3\n",
    "lambda_F = 1.3\n",
    "lambda_H = 1.3\n",
    "lambda_UP = 0.7\n",
    "lambda_DW = 1.7\n",
    "\n",
    "def operatorLoss(bid, realization):\n",
    "    sold = torch.maximum(realization - bid, torch.zeros(1))\n",
    "    bought = torch.maximum(bid - realization, torch.zeros(1))\n",
    "    # print(f\"We bought {bought} and sold {sold}\")\n",
    "    loss = - lambda_F * bid - lambda_UP * sold + lambda_DW * bought # Reversed signs because loss is minimized\n",
    "    return loss"
   ]
  },
  {
   "cell_type": "code",
   "execution_count": 168,
   "id": "1ee9f22a",
   "metadata": {},
   "outputs": [
    {
     "name": "stdout",
     "output_type": "stream",
     "text": [
      "tensor([[-4.7651],\n",
      "        [-4.8537],\n",
      "        [-5.0309],\n",
      "        [-4.3222]], grad_fn=<AddBackward0>)\n"
     ]
    },
    {
     "ename": "RuntimeError",
     "evalue": "grad can be implicitly created only for scalar outputs",
     "output_type": "error",
     "traceback": [
      "\u001b[1;31m---------------------------------------------------------------------------\u001b[0m",
      "\u001b[1;31mRuntimeError\u001b[0m                              Traceback (most recent call last)",
      "\u001b[1;32mc:\\Users\\emilh\\Desktop\\PRIVAT_mapper\\uni\\Master\\kode\\Batch model.ipynb Cell 6\u001b[0m in \u001b[0;36m<cell line: 15>\u001b[1;34m()\u001b[0m\n\u001b[0;32m     <a href='vscode-notebook-cell:/c%3A/Users/emilh/Desktop/PRIVAT_mapper/uni/Master/kode/Batch%20model.ipynb#X30sZmlsZQ%3D%3D?line=12'>13</a>\u001b[0m \u001b[39mprint\u001b[39m(loss)\n\u001b[0;32m     <a href='vscode-notebook-cell:/c%3A/Users/emilh/Desktop/PRIVAT_mapper/uni/Master/kode/Batch%20model.ipynb#X30sZmlsZQ%3D%3D?line=13'>14</a>\u001b[0m \u001b[39m# optim = torch.optim.SGD(m.parameters(), lr=0.001)\u001b[39;00m\n\u001b[1;32m---> <a href='vscode-notebook-cell:/c%3A/Users/emilh/Desktop/PRIVAT_mapper/uni/Master/kode/Batch%20model.ipynb#X30sZmlsZQ%3D%3D?line=14'>15</a>\u001b[0m loss\u001b[39m.\u001b[39;49mbackward()\n\u001b[0;32m     <a href='vscode-notebook-cell:/c%3A/Users/emilh/Desktop/PRIVAT_mapper/uni/Master/kode/Batch%20model.ipynb#X30sZmlsZQ%3D%3D?line=15'>16</a>\u001b[0m \u001b[39mprint\u001b[39m(m\u001b[39m.\u001b[39mweight\u001b[39m.\u001b[39mgrad)\n",
      "File \u001b[1;32mc:\\Python310\\lib\\site-packages\\torch\\_tensor.py:396\u001b[0m, in \u001b[0;36mTensor.backward\u001b[1;34m(self, gradient, retain_graph, create_graph, inputs)\u001b[0m\n\u001b[0;32m    387\u001b[0m \u001b[39mif\u001b[39;00m has_torch_function_unary(\u001b[39mself\u001b[39m):\n\u001b[0;32m    388\u001b[0m     \u001b[39mreturn\u001b[39;00m handle_torch_function(\n\u001b[0;32m    389\u001b[0m         Tensor\u001b[39m.\u001b[39mbackward,\n\u001b[0;32m    390\u001b[0m         (\u001b[39mself\u001b[39m,),\n\u001b[1;32m   (...)\u001b[0m\n\u001b[0;32m    394\u001b[0m         create_graph\u001b[39m=\u001b[39mcreate_graph,\n\u001b[0;32m    395\u001b[0m         inputs\u001b[39m=\u001b[39minputs)\n\u001b[1;32m--> 396\u001b[0m torch\u001b[39m.\u001b[39;49mautograd\u001b[39m.\u001b[39;49mbackward(\u001b[39mself\u001b[39;49m, gradient, retain_graph, create_graph, inputs\u001b[39m=\u001b[39;49minputs)\n",
      "File \u001b[1;32mc:\\Python310\\lib\\site-packages\\torch\\autograd\\__init__.py:166\u001b[0m, in \u001b[0;36mbackward\u001b[1;34m(tensors, grad_tensors, retain_graph, create_graph, grad_variables, inputs)\u001b[0m\n\u001b[0;32m    162\u001b[0m inputs \u001b[39m=\u001b[39m (inputs,) \u001b[39mif\u001b[39;00m \u001b[39misinstance\u001b[39m(inputs, torch\u001b[39m.\u001b[39mTensor) \u001b[39melse\u001b[39;00m \\\n\u001b[0;32m    163\u001b[0m     \u001b[39mtuple\u001b[39m(inputs) \u001b[39mif\u001b[39;00m inputs \u001b[39mis\u001b[39;00m \u001b[39mnot\u001b[39;00m \u001b[39mNone\u001b[39;00m \u001b[39melse\u001b[39;00m \u001b[39mtuple\u001b[39m()\n\u001b[0;32m    165\u001b[0m grad_tensors_ \u001b[39m=\u001b[39m _tensor_or_tensors_to_tuple(grad_tensors, \u001b[39mlen\u001b[39m(tensors))\n\u001b[1;32m--> 166\u001b[0m grad_tensors_ \u001b[39m=\u001b[39m _make_grads(tensors, grad_tensors_, is_grads_batched\u001b[39m=\u001b[39;49m\u001b[39mFalse\u001b[39;49;00m)\n\u001b[0;32m    167\u001b[0m \u001b[39mif\u001b[39;00m retain_graph \u001b[39mis\u001b[39;00m \u001b[39mNone\u001b[39;00m:\n\u001b[0;32m    168\u001b[0m     retain_graph \u001b[39m=\u001b[39m create_graph\n",
      "File \u001b[1;32mc:\\Python310\\lib\\site-packages\\torch\\autograd\\__init__.py:67\u001b[0m, in \u001b[0;36m_make_grads\u001b[1;34m(outputs, grads, is_grads_batched)\u001b[0m\n\u001b[0;32m     65\u001b[0m \u001b[39mif\u001b[39;00m out\u001b[39m.\u001b[39mrequires_grad:\n\u001b[0;32m     66\u001b[0m     \u001b[39mif\u001b[39;00m out\u001b[39m.\u001b[39mnumel() \u001b[39m!=\u001b[39m \u001b[39m1\u001b[39m:\n\u001b[1;32m---> 67\u001b[0m         \u001b[39mraise\u001b[39;00m \u001b[39mRuntimeError\u001b[39;00m(\u001b[39m\"\u001b[39m\u001b[39mgrad can be implicitly created only for scalar outputs\u001b[39m\u001b[39m\"\u001b[39m)\n\u001b[0;32m     68\u001b[0m     new_grads\u001b[39m.\u001b[39mappend(torch\u001b[39m.\u001b[39mones_like(out, memory_format\u001b[39m=\u001b[39mtorch\u001b[39m.\u001b[39mpreserve_format))\n\u001b[0;32m     69\u001b[0m \u001b[39melse\u001b[39;00m:\n",
      "\u001b[1;31mRuntimeError\u001b[0m: grad can be implicitly created only for scalar outputs"
     ]
    }
   ],
   "source": [
    "\n",
    "bid = np.array([5, 5, 5, 5])\n",
    "realization = np.array([4.8, 4.9, 5.1, 4.3])\n",
    "forecast = realization * 1.3\n",
    "\n",
    "bid_torch = torch.FloatTensor(bid).reshape(-1, 1)\n",
    "realization_torch = torch.FloatTensor(realization).reshape(-1, 1)\n",
    "forecast_torch = torch.FloatTensor(forecast).reshape(-1, 1)\n",
    "\n",
    "\n",
    "m = LinearModel(1, 1)\n",
    "output = m(forecast_torch)\n",
    "loss = operatorLoss(output, realization_torch)\n",
    "print(loss)\n",
    "# optim = torch.optim.SGD(m.parameters(), lr=0.001)\n",
    "loss.backward()\n",
    "print(m.weight.grad)\n"
   ]
  },
  {
   "cell_type": "code",
   "execution_count": 141,
   "metadata": {},
   "outputs": [],
   "source": [
    "model = LinearModel(1, 1)\n",
    "loss_fn = nn.MSELoss()\n",
    "optimizer = torch.optim.SGD(model.parameters(), lr=0.001)"
   ]
  },
  {
   "cell_type": "code",
   "execution_count": null,
   "id": "8eb5f0f9",
   "metadata": {},
   "outputs": [],
   "source": []
  },
  {
   "cell_type": "code",
   "execution_count": 142,
   "id": "4c200eba",
   "metadata": {},
   "outputs": [],
   "source": [
    "x_torch = torch.FloatTensor(x).reshape(-1, 1)\n",
    "y_torch = torch.FloatTensor(y).reshape(-1, 1)"
   ]
  },
  {
   "cell_type": "code",
   "execution_count": 143,
   "id": "f893d853",
   "metadata": {},
   "outputs": [],
   "source": [
    "\n",
    "x_train = x_torch[:300]\n",
    "y_train = y_torch[:300]\n",
    "x_valid = x_torch[300:350]\n",
    "y_valid = y_torch[300:350]\n",
    "x_test = x_torch[350:]\n",
    "y_test = y_torch[350:]"
   ]
  },
  {
   "cell_type": "code",
   "execution_count": 144,
   "id": "46a50881",
   "metadata": {},
   "outputs": [
    {
     "name": "stdout",
     "output_type": "stream",
     "text": [
      "Now in epoch 0\n",
      "Now in epoch 100\n"
     ]
    }
   ],
   "source": [
    "losses = []\n",
    "\n",
    "# Training loop\n",
    "for epoch in range(200):\n",
    "    if (epoch % 100 == 0):\n",
    "        print(f\"Now in epoch {epoch}\")\n",
    "    \n",
    "    optimizer.zero_grad()\n",
    "    y_hat = model(x_train)\n",
    "\n",
    "    loss = loss_fn(y_hat, y_train)\n",
    "    loss.backward()\n",
    "    \n",
    "\n",
    "    optimizer.step()\n",
    "\n",
    "\n",
    "    losses.append(loss.item())\n",
    "\n",
    "    \n",
    "\n"
   ]
  },
  {
   "cell_type": "code",
   "execution_count": 145,
   "id": "a49788b7",
   "metadata": {},
   "outputs": [
    {
     "data": {
      "text/plain": [
       "[<matplotlib.lines.Line2D at 0x196730555d0>]"
      ]
     },
     "execution_count": 145,
     "metadata": {},
     "output_type": "execute_result"
    },
    {
     "data": {
      "image/png": "[encoded data removed]",
      "text/plain": [
       "<Figure size 640x480 with 1 Axes>"
      ]
     },
     "metadata": {},
     "output_type": "display_data"
    }
   ],
   "source": [
    "y_pred = model.forward(x_valid)\n",
    "plt.plot(x_valid, y_valid, 'go')\n",
    "plt.plot(x_valid, y_pred.detach().numpy(), '--')"
   ]
  },
  {
   "cell_type": "code",
   "execution_count": 146,
   "id": "d24e7158",
   "metadata": {},
   "outputs": [
    {
     "name": "stdout",
     "output_type": "stream",
     "text": [
      "linear.weight Parameter containing:\n",
      "tensor([[0.9989]], requires_grad=True)\n",
      "linear.bias Parameter containing:\n",
      "tensor([0.0113], requires_grad=True)\n"
     ]
    }
   ],
   "source": [
    "for name, param in model.named_parameters():\n",
    "    print(name, param)"
   ]
  },
  {
   "cell_type": "code",
   "execution_count": 147,
   "id": "95e4b33a",
   "metadata": {},
   "outputs": [
    {
     "data": {
      "text/plain": [
       "[<matplotlib.lines.Line2D at 0x1967309b820>]"
      ]
     },
     "execution_count": 147,
     "metadata": {},
     "output_type": "execute_result"
    },
    {
     "data": {
      "image/png": "[encoded data removed]",
      "text/plain": [
       "<Figure size 640x480 with 1 Axes>"
      ]
     },
     "metadata": {},
     "output_type": "display_data"
    }
   ],
   "source": [
    "plt.plot(np.arange(0, 100, 1), losses[:100])"
   ]
  },
  {
   "cell_type": "code",
   "execution_count": null,
   "id": "fb9c995a",
   "metadata": {},
   "outputs": [],
   "source": []
  },
  {
   "cell_type": "code",
   "execution_count": null,
   "id": "c14acf88",
   "metadata": {},
   "outputs": [],
   "source": []
  },
  {
   "cell_type": "code",
   "execution_count": 2,
   "id": "d26f501d",
   "metadata": {},
   "outputs": [],
   "source": [
    "import numpy as np"
   ]
  },
  {
   "cell_type": "code",
   "execution_count": 5,
   "id": "ad895e9f",
   "metadata": {},
   "outputs": [
    {
     "data": {
      "text/plain": [
       "array([1.3928639 , 1.28684199, 1.20182008, 1.20636038, 1.23086278,\n",
       "       1.39256566, 1.2537517 , 1.25913517, 1.33020145, 1.21392255])"
      ]
     },
     "execution_count": 5,
     "metadata": {},
     "output_type": "execute_result"
    }
   ],
   "source": [
    "1.3 + (np.random.rand(10) - 0.5)/5"
   ]
  },
  {
   "cell_type": "code",
   "execution_count": null,
   "id": "17f0de45",
   "metadata": {},
   "outputs": [],
   "source": []
  }
 ],
 "metadata": {
  "kernelspec": {
   "display_name": "Python 3.10.5 64-bit",
   "language": "python",
   "name": "python3"
  },
  "language_info": {
   "codemirror_mode": {
    "name": "ipython",
    "version": 3
   },
   "file_extension": ".py",
   "mimetype": "text/x-python",
   "name": "python",
   "nbconvert_exporter": "python",
   "pygments_lexer": "ipython3",
   "version": "3.10.5"
  },
  "vscode": {
   "interpreter": {
    "hash": "369f2c481f4da34e4445cda3fffd2e751bd1c4d706f27375911949ba6bb62e1c"
   }
  }
 },
 "nbformat": 4,
 "nbformat_minor": 5
}
